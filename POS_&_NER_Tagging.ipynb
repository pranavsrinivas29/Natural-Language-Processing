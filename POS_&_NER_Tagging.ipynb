{
  "nbformat": 4,
  "nbformat_minor": 0,
  "metadata": {
    "colab": {
      "provenance": [],
      "authorship_tag": "ABX9TyORr1khxQxOFMYeSjDth47G",
      "include_colab_link": true
    },
    "kernelspec": {
      "name": "python3",
      "display_name": "Python 3"
    },
    "language_info": {
      "name": "python"
    }
  },
  "cells": [
    {
      "cell_type": "markdown",
      "metadata": {
        "id": "view-in-github",
        "colab_type": "text"
      },
      "source": [
        "<a href=\"https://colab.research.google.com/github/pranavsrinivas29/Natural-Language-Processing/blob/main/POS_%26_NER_Tagging.ipynb\" target=\"_parent\"><img src=\"https://colab.research.google.com/assets/colab-badge.svg\" alt=\"Open In Colab\"/></a>"
      ]
    },
    {
      "cell_type": "code",
      "execution_count": null,
      "metadata": {
        "id": "7MqFhuwaJ_aM"
      },
      "outputs": [],
      "source": [
        "import spacy\n",
        "\n",
        "def ner_format(tag):\n",
        "    if tag.startswith('B-') or tag == 'O':\n",
        "        return tag\n",
        "    else:\n",
        "        return 'I-' + tag\n",
        "\n",
        "def text_to_conll(text_file, output_file, nlp):\n",
        "    with open(text_file, 'r', encoding='utf-8') as file:\n",
        "        text = file.read()\n",
        "\n",
        "    # Split the text into sentences using Spacy\n",
        "    doc = nlp(text)\n",
        "    sentences = list(doc.sents)\n",
        "\n",
        "    with open(output_file, 'w', encoding='utf-8') as out_file:\n",
        "        for sentence in sentences:\n",
        "            for token in sentence:\n",
        "                if token.text.strip():\n",
        "                    ner_tag = ner_format(token.ent_iob_ + token.ent_type_)\n",
        "                    out_file.write(\n",
        "                        f\"{token.text} {token.pos_} {token.dep_} {ner_tag}\\n\"\n",
        "                    )\n",
        "            out_file.write(\"\\n\")  # Add an empty line after each sentence\n"
      ]
    },
    {
      "cell_type": "code",
      "source": [
        "\n",
        "# Example usage\n",
        "if __name__ == \"__main__\":\n",
        "    nlp = spacy.load(\"en_core_web_sm\")  # Load the English model\n",
        "    text_file = \"path/2022-11-25_225.txt\"  # Replace with the path to your input text file\n",
        "    output_file = \"path/2022-11-25_225.conll\"  # Replace with the desired output file path\n",
        "    text_to_conll(text_file, output_file, nlp)"
      ],
      "metadata": {
        "id": "F4gYB2_rKFT1"
      },
      "execution_count": null,
      "outputs": []
    }
  ]
}