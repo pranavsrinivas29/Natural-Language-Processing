{
  "cells": [
    {
      "cell_type": "markdown",
      "metadata": {
        "id": "view-in-github",
        "colab_type": "text"
      },
      "source": [
        "<a href=\"https://colab.research.google.com/github/pranavsrinivas29/Natural-Language-Processing/blob/main/NLP_Ambiguities.ipynb\" target=\"_parent\"><img src=\"https://colab.research.google.com/assets/colab-badge.svg\" alt=\"Open In Colab\"/></a>"
      ]
    },
    {
      "cell_type": "markdown",
      "metadata": {
        "id": "p5DmkJBJQZsU"
      },
      "source": [
        "\n",
        "1. [Ambiguity and Context](#nlp-ambiguities)\n",
        "  - [Lexical Ambiguity](#nlp-lex-amb)\n",
        "  - [Word Sense Disambiguation (WSD)](#nlp-wsd)"
      ]
    },
    {
      "cell_type": "markdown",
      "metadata": {
        "id": "2mi9P5rm34pp"
      },
      "source": [
        "# <a name=\"nlp-ambiguities\"></a> 3. Ambiguity and Context\n",
        "A word/sentence can have different meanings in the language to which it belongs. This is called **Ambiguity**. The example of `\"Jaguar\"` in page 8 of slide set 1.3 is a case of **Lexical ambiguity**, in which one word of a specific syntactic category can have several meanings. As mentioned in the lecture, the communicated content via language can be interpreted in different ways depending on the **Context**.\n",
        "\n"
      ]
    },
    {
      "cell_type": "markdown",
      "metadata": {
        "id": "lhOB724Sg8Xh"
      },
      "source": [
        "## 3.1 <a name=\"nlp-lex-amb\"></a> Lexical Ambiguity\n",
        "The traditional approach to resolve Lexical Ambiguity is to first build a taxonomy, such as [WordNet](https://wordnet.princeton.edu/), that provides a denotational definition for each word and represents interrelations between words in a hierarchical structure. Based on their definitions, WordNet categorizes words into synonyms. A **Synset** is a set of one or more synonyms. WordNet is organized as hierarchies of Synsets.\n",
        "Example:[ Lookup WordNet for \"star\"](http://wordnetweb.princeton.edu/perl/webwn?s=star&sub=Search+WordNet&o2=&o0=1&o8=1&o1=1&o7=&o5=&o9=&o6=&o3=&o4=&h=)\n",
        "\n",
        "WordNet is integrated into the Python [NLTK library](https://www.nltk.org/) and can be accessed through this library."
      ]
    },
    {
      "cell_type": "code",
      "execution_count": 1,
      "metadata": {
        "id": "fbl2JJd134pq",
        "colab": {
          "base_uri": "https://localhost:8080/"
        },
        "outputId": "fdbb4052-3b5d-4f10-e7f9-36c583000664"
      },
      "outputs": [
        {
          "output_type": "stream",
          "name": "stderr",
          "text": [
            "[nltk_data] Downloading package wordnet to /root/nltk_data...\n"
          ]
        }
      ],
      "source": [
        "#First we have to import nltk and download the wordnet package\n",
        "import nltk\n",
        "nltk.download('wordnet')\n",
        "\n",
        "#Next we import wordnet from nltk\n",
        "from nltk.corpus import wordnet as wn"
      ]
    },
    {
      "cell_type": "code",
      "source": [
        "#We can look up synsets of a specific word\n",
        "wn.synsets(\"star\")"
      ],
      "metadata": {
        "id": "Yf07kIiEPKMC",
        "colab": {
          "base_uri": "https://localhost:8080/"
        },
        "outputId": "e70d8d96-ba01-49d6-b94c-7a76c2eacbaa"
      },
      "execution_count": 2,
      "outputs": [
        {
          "output_type": "execute_result",
          "data": {
            "text/plain": [
              "[Synset('star.n.01'),\n",
              " Synset('ace.n.03'),\n",
              " Synset('star.n.03'),\n",
              " Synset('star.n.04'),\n",
              " Synset('star.n.05'),\n",
              " Synset('headliner.n.01'),\n",
              " Synset('asterisk.n.01'),\n",
              " Synset('star_topology.n.01'),\n",
              " Synset('star.v.01'),\n",
              " Synset('star.v.02'),\n",
              " Synset('star.v.03'),\n",
              " Synset('leading.s.01')]"
            ]
          },
          "metadata": {},
          "execution_count": 2
        }
      ]
    },
    {
      "cell_type": "code",
      "execution_count": 5,
      "metadata": {
        "id": "lYFV1iaAbugN",
        "colab": {
          "base_uri": "https://localhost:8080/",
          "height": 35
        },
        "outputId": "4fc8442e-f233-4421-f710-62e6cc452e8a"
      },
      "outputs": [
        {
          "output_type": "execute_result",
          "data": {
            "text/plain": [
              "'feature as the star'"
            ],
            "application/vnd.google.colaboratory.intrinsic+json": {
              "type": "string"
            }
          },
          "metadata": {},
          "execution_count": 5
        }
      ],
      "source": [
        "#We can look up the definition of a specific synset\n",
        "wn.synset(\"star.v.01\").definition()"
      ]
    },
    {
      "cell_type": "code",
      "execution_count": 6,
      "metadata": {
        "id": "cUuCMj6CyV3g",
        "colab": {
          "base_uri": "https://localhost:8080/"
        },
        "outputId": "680496b3-c034-4a5d-c851-14f5ddbbcd92"
      },
      "outputs": [
        {
          "output_type": "stream",
          "name": "stdout",
          "text": [
            "1 star.n.01 :  noun.object ,  (astronomy) a celestial body of hot gases that radiates energy derived from thermonuclear reactions in the interior ,  ['star']\n",
            "2 ace.n.03 :  noun.person ,  someone who is dazzlingly skilled in any field ,  ['ace', 'adept', 'champion', 'sensation', 'maven', 'mavin', 'virtuoso', 'genius', 'hotshot', 'star', 'superstar', 'whiz', 'whizz', 'wizard', 'wiz']\n",
            "3 star.n.03 :  noun.object ,  any celestial body visible (as a point of light) from the Earth at night ,  ['star']\n",
            "4 star.n.04 :  noun.person ,  an actor who plays a principal role ,  ['star', 'principal', 'lead']\n",
            "5 star.n.05 :  noun.shape ,  a plane figure with 5 or more points; often used as an emblem ,  ['star']\n",
            "6 headliner.n.01 :  noun.person ,  a performer who receives prominent billing ,  ['headliner', 'star']\n",
            "7 asterisk.n.01 :  noun.communication ,  a star-shaped character * used in printing ,  ['asterisk', 'star']\n",
            "8 star_topology.n.01 :  noun.cognition ,  the topology of a network whose components are connected to a hub ,  ['star_topology', 'star']\n",
            "9 star.v.01 :  verb.stative ,  feature as the star ,  ['star']\n",
            "10 star.v.02 :  verb.creation ,  be the star in a performance ,  ['star']\n",
            "11 star.v.03 :  verb.change ,  mark with an asterisk ,  ['star', 'asterisk']\n",
            "12 leading.s.01 :  adj.all ,  indicating the most important performer or role ,  ['leading', 'prima', 'star', 'starring', 'stellar']\n"
          ]
        }
      ],
      "source": [
        "# or look up all definitions, lexical information and synonyms of a specific synset\n",
        "i=0\n",
        "for sense in wn.synsets(\"star\"):\n",
        "  i+=1\n",
        "  print(i,sense.name(),\": \",sense.lexname(),\", \",sense.definition(),\", \",sense.lemma_names())"
      ]
    },
    {
      "cell_type": "code",
      "execution_count": 7,
      "metadata": {
        "id": "xD1Eabc84Stg",
        "colab": {
          "base_uri": "https://localhost:8080/"
        },
        "outputId": "693a3380-4687-43f9-9bee-fdd92cf1d601"
      },
      "outputs": [
        {
          "output_type": "execute_result",
          "data": {
            "text/plain": [
              "[Synset('celestial_body.n.01'),\n",
              " Synset('natural_object.n.01'),\n",
              " Synset('whole.n.02'),\n",
              " Synset('object.n.01'),\n",
              " Synset('physical_entity.n.01'),\n",
              " Synset('entity.n.01')]"
            ]
          },
          "metadata": {},
          "execution_count": 7
        }
      ],
      "source": [
        "#and we can look up hypernyms for a given synset\n",
        "star = wn.synset(\"star.n.03\")\n",
        "hypernyms = lambda s:s.hypernyms()\n",
        "list(star.closure(hypernyms))"
      ]
    },
    {
      "cell_type": "markdown",
      "metadata": {
        "id": "TjCUwG66Cs6x"
      },
      "source": [
        "## 3.2 Word Sense Disambiguation (WSD) <a name=\"nlp-wsd\">\n",
        "\n",
        "Given a word and its context we want to automatically determine which of the WordNet senses is the context-appropriate one:\n",
        "\n",
        "`\"The astronomer loves the star who plays the lead role\"`\n",
        "\n",
        "Let's determine the correct synset for `\"star\"`.\n",
        "\n",
        "**Idea**: Look for the maximum overlap of the sentence (context) and the synset definition, e.g., \"an actor who **plays** a principal **role**\".\n",
        "\n",
        "(A simple [Lesk algorithm](https://en.wikipedia.org/wiki/Lesk_algorithm), introduced by Michael E. Lesk in 1986)"
      ]
    },
    {
      "cell_type": "code",
      "execution_count": 8,
      "metadata": {
        "id": "_I_lB5vC59uw",
        "colab": {
          "base_uri": "https://localhost:8080/"
        },
        "outputId": "44421f5a-016a-4e24-e335-77da8dec4c15"
      },
      "outputs": [
        {
          "output_type": "stream",
          "name": "stdout",
          "text": [
            "Synset('star.n.04')\n",
            "an actor who plays a principal role\n"
          ]
        }
      ],
      "source": [
        "from nltk.corpus import wordnet as wn\n",
        "\n",
        "#simplified lesk algorithm\n",
        "def lesk(sentence, ambiguous_word):\n",
        "  max_overlaps = 0\n",
        "  lesk_sense = \"\"\n",
        "  #the context is composed of all the single words in the sentence\n",
        "  context = sentence.split()\n",
        "\n",
        "  #for all synsets of the ambiguous word\n",
        "  for sense in wn.synsets(ambiguous_word):\n",
        "    lesk_dictionary=[]\n",
        "    #split the definition into words\n",
        "    lesk_dictionary = sense.definition().split()\n",
        "    #add the group of lemmas with a similar meaning from the same sense\n",
        "    lesk_dictionary += sense.lemma_names()\n",
        "    #count the overlaps between definition and sentence\n",
        "    overlaps = set(lesk_dictionary).intersection(context)\n",
        "\n",
        "    if len(overlaps) > max_overlaps:\n",
        "      #the correct sense is the one with the highest overlap\n",
        "      lesk_sense = sense\n",
        "      max_overlaps = len(overlaps)\n",
        "\n",
        "  return lesk_sense\n",
        "\n",
        "sentence1 = \"The astronomer loves the star who plays the lead role\"\n",
        "ambiguous_word = 'star'\n",
        "\n",
        "answer1 = lesk(sentence1, ambiguous_word)\n",
        "print(answer1)\n",
        "print(answer1.definition())"
      ]
    },
    {
      "cell_type": "code",
      "execution_count": 12,
      "metadata": {
        "id": "VgPRaSLMdKPr",
        "colab": {
          "base_uri": "https://localhost:8080/"
        },
        "outputId": "64f6496e-7310-43f2-c8aa-af3582913253"
      },
      "outputs": [
        {
          "output_type": "stream",
          "name": "stdout",
          "text": [
            "Synset('star.v.02')\n",
            "be the star in a performance\n"
          ]
        }
      ],
      "source": [
        "#try another sentence\n",
        "sentence2 = \"An actor likes to be starred in the movie\"\n",
        "ambiguous_word = 'star'\n",
        "\n",
        "answer2 = lesk(sentence2, ambiguous_word)\n",
        "print(answer2)\n",
        "print(answer2.definition())"
      ]
    },
    {
      "cell_type": "markdown",
      "metadata": {
        "id": "xoz99O5lVa0_"
      },
      "source": [
        "**More information on how to use WordNet with NLTK:**\n",
        "\n",
        "  Steven Bird, Ewan Klein, and Edward Loper: [Natural Language Processing with Python\n",
        "– Analyzing Text with the Natural Language Toolkit](https://www.nltk.org/book/), O'Reilly Media, 2009.\n",
        "> Chap 2: [Accessing Text Corpora and Lexical Resources](https://www.nltk.org/book/ch02.html), Section 5: WordNet.\n",
        "\n",
        "\n",
        "\n"
      ]
    },
    {
      "cell_type": "markdown",
      "metadata": {
        "id": "HnW3lyy8UcO2"
      },
      "source": [
        "---\n",
        "\n",
        "Picture References:\n",
        "\n",
        "\n",
        "[1] Car Jaguar Vehicle, OpenClipart-Vectors (pixabay.com), https://www.needpix.com/photo/101821/car-jaguar-vehicle-automobile-transportation\n",
        "\n",
        "\n",
        "[2] Felis onca, Geoffroy-Saint-Hilaire & Cuvier, Histoire naturelle des mammifères, pl. 170, [public domain],\n",
        "https://commons.wikimedia.org/wiki/File:Felis_onca_-_1818-1842_-_Print_-_Iconographia_Zoologica_-_Special_Collections_University_of_Amsterdam_-_(white_background).jpg\n"
      ]
    }
  ],
  "metadata": {
    "colab": {
      "provenance": [],
      "toc_visible": true,
      "include_colab_link": true
    },
    "kernelspec": {
      "display_name": "Python 3",
      "name": "python3"
    },
    "language_info": {
      "name": "python"
    }
  },
  "nbformat": 4,
  "nbformat_minor": 0
}